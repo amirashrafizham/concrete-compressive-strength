{
 "cells": [
  {
   "cell_type": "code",
   "execution_count": 70,
   "metadata": {},
   "outputs": [],
   "source": [
    "import pandas as pd\n",
    "import numpy as np\n",
    "import matplotlib.pyplot as plt\n",
    "import lightgbm as lgb\n",
    "from scipy.optimize import differential_evolution\n",
    "import seaborn as sns"
   ]
  },
  {
   "cell_type": "markdown",
   "metadata": {},
   "source": [
    "### Data Loading"
   ]
  },
  {
   "cell_type": "code",
   "execution_count": null,
   "metadata": {},
   "outputs": [],
   "source": [
    "df = pd.read_csv(\"../database/concrete_data.csv\")\n",
    "df.head()"
   ]
  },
  {
   "cell_type": "markdown",
   "metadata": {},
   "source": [
    "Features\n",
    "\n",
    "- Cement (kg)\n",
    "- Blast Furnace Slag (kg) \n",
    "- Fly Ash (kg)\n",
    "- Water (kg) \n",
    "- Superplasticizer (kg) \n",
    "- Coarse Aggregate (kg)\n",
    "- Fine Aggregate (kg) \n",
    "- Age (Day)\n",
    "\n",
    "Label\n",
    "- Concrete compressive strength (MPa)"
   ]
  },
  {
   "cell_type": "markdown",
   "metadata": {},
   "source": [
    "### Summarize Data"
   ]
  },
  {
   "cell_type": "code",
   "execution_count": null,
   "metadata": {},
   "outputs": [],
   "source": [
    "print(\"-----------Checking for Data Types-----------\")\n",
    "print(df.dtypes)\n",
    "print(\"-----------Checking for Null Values-----------\")\n",
    "print(df.isnull().sum())\n",
    "print(\"-----------Describing Data-----------\")\n",
    "df.describe()"
   ]
  },
  {
   "cell_type": "markdown",
   "metadata": {},
   "source": [
    "### Checking for Outliers"
   ]
  },
  {
   "cell_type": "code",
   "execution_count": null,
   "metadata": {},
   "outputs": [],
   "source": [
    "print(df.columns)"
   ]
  },
  {
   "cell_type": "code",
   "execution_count": null,
   "metadata": {},
   "outputs": [],
   "source": [
    "import warnings \n",
    "warnings.filterwarnings(\"ignore\")\n",
    "\n",
    "for i in df.columns:\n",
    "    fig = plt.figure(figsize=(5, 3))\n",
    "    # Creating plot\n",
    "    sns.violinplot(\n",
    "        data=df[i], \n",
    "        inner=None, \n",
    "        color=\"#3258a8\", \n",
    "        alpha=0.6)\n",
    "    sns.boxplot(\n",
    "        data=df[i],\n",
    "        color=\"#a3d9d6\",\n",
    "        medianprops={\"color\": \"#d791eb\", \"linewidth\": 2},\n",
    "        flierprops={\"marker\": \"o\", \"markersize\": 5, \"markerfacecolor\": \"#db5e90\"},\n",
    "        showfliers=True,\n",
    "    )\n",
    "    plt.title(f'Boxplot for {i}')\n",
    "    plt.grid(True)\n",
    "    plt.show()"
   ]
  },
  {
   "cell_type": "markdown",
   "metadata": {},
   "source": [
    "### Correlation Study"
   ]
  },
  {
   "cell_type": "code",
   "execution_count": null,
   "metadata": {},
   "outputs": [],
   "source": [
    "df_corr = df.corr()\n",
    "target_corr = df_corr['concrete_compressive_strength']\n",
    "target_corr = target_corr.sort_values(ascending=False)\n",
    "\n",
    "plt.figure(figsize=(5, 3))\n",
    "# Create a heatmap of the correlation matrix\n",
    "sns.heatmap(df_corr, annot=True, cmap=\"coolwarm\", linewidths=0.5, fmt=\".2f\")\n",
    "# Set title\n",
    "plt.title(\"Correlation Heatmap of Compressive Strength\", fontsize=16)\n",
    "# Show the plot\n",
    "plt.show()\n",
    "\n",
    "plt.figure(figsize=(5, 3))\n",
    "sns.barplot(target_corr)\n",
    "plt.title(\"Correlation Boxplot of Compressive Strength\", fontsize=16)\n",
    "plt.xticks(rotation=90)\n",
    "plt.show()\n",
    "\n",
    "#plt.figure(figsize=(5, 3))\n",
    "#sns.pairplot(df)\n",
    "#plt.show()\n",
    "\n",
    "\n",
    "#for i in df.columns:\n",
    "#    plt.figure(figsize=(4, 2))\n",
    "#    sns.scatterplot(x=df[i],y=df['concrete_compressive_strength'])\n",
    "#    plt.title(f\"Line Plot of {i} against the Target Variable\")\n",
    "#    plt.xlabel(f\"{i}\")\n",
    "#    plt.ylabel(\"Concrete Strength\")\n",
    "#    plt.show()\n"
   ]
  }
 ],
 "metadata": {
  "kernelspec": {
   "display_name": ".venv",
   "language": "python",
   "name": "python3"
  },
  "language_info": {
   "codemirror_mode": {
    "name": "ipython",
    "version": 3
   },
   "file_extension": ".py",
   "mimetype": "text/x-python",
   "name": "python",
   "nbconvert_exporter": "python",
   "pygments_lexer": "ipython3",
   "version": "3.11.8"
  }
 },
 "nbformat": 4,
 "nbformat_minor": 2
}
